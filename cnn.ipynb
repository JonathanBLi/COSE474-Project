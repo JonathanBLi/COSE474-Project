{
 "cells": [
  {
   "cell_type": "code",
   "execution_count": 5,
   "metadata": {},
   "outputs": [],
   "source": [
    "# import libraries\n",
    "import torch\n",
    "from torch import nn\n",
    "from torch.nn import TransformerEncoder, TransformerEncoderLayer\n",
    "import numpy as np\n",
    "import matplotlib.pyplot as plt"
   ]
  },
  {
   "cell_type": "code",
   "execution_count": 6,
   "metadata": {},
   "outputs": [],
   "source": [
    "# set seed\n",
    "seed = 25\n",
    "\n",
    "np.random.seed(seed)\n",
    "torch.manual_seed(seed)\n",
    "torch.cuda.manual_seed_all(seed)\n",
    "torch.cuda.manual_seed(seed)\n",
    "torch.backends.cudnn.benchmark = False\n",
    "torch.backends.cudnn.deterministic = True"
   ]
  },
  {
   "cell_type": "code",
   "execution_count": 7,
   "metadata": {},
   "outputs": [
    {
     "name": "stdout",
     "output_type": "stream",
     "text": [
      "Files already downloaded and verified\n",
      "Files already downloaded and verified\n",
      "Dataset CIFAR10\n",
      "    Number of datapoints: 50000\n",
      "    Root location: cifar10\n",
      "    Split: Train\n",
      "    StandardTransform\n",
      "Transform: ToTensor()\n",
      "Dataset CIFAR10\n",
      "    Number of datapoints: 10000\n",
      "    Root location: cifar10\n",
      "    Split: Test\n",
      "    StandardTransform\n",
      "Transform: ToTensor()\n"
     ]
    }
   ],
   "source": [
    "# load cifar10 dataset\n",
    "from torchvision import datasets, transforms\n",
    "\n",
    "save_dir = 'cifar10'\n",
    "\n",
    "transform = transforms.ToTensor()\n",
    "\n",
    "train_set = datasets.CIFAR10(save_dir, download=True, train=True, transform=transform)\n",
    "test_set = datasets.CIFAR10(save_dir, download=True, train=False, transform=transform)\n",
    "\n",
    "print(train_set)\n",
    "print(test_set)"
   ]
  },
  {
   "cell_type": "code",
   "execution_count": 8,
   "metadata": {},
   "outputs": [],
   "source": [
    "# randomly create training and validation sets\n",
    "\n",
    "from torch.utils.data.sampler import SubsetRandomSampler\n",
    "ntotal = 50000\n",
    "ntrain = int(0.9*ntotal)\n",
    "nval = ntotal - ntrain\n",
    "\n",
    "val_ix = np.random.choice(range(ntotal), size=nval, replace=False)\n",
    "train_ix = list(set(range(ntotal)) - set(val_ix))\n",
    "\n",
    "train_sampler = SubsetRandomSampler(train_ix)\n",
    "val_sampler = SubsetRandomSampler(val_ix)\n",
    "\n",
    "batch_size = 64\n",
    "train_loader = torch.utils.data.DataLoader(train_set, batch_size, sampler=train_sampler)\n",
    "val_loader = torch.utils.data.DataLoader(train_set, batch_size, sampler=val_sampler)\n",
    "test_loader = torch.utils.data.DataLoader(test_set, batch_size)"
   ]
  },
  {
   "cell_type": "code",
   "execution_count": 9,
   "metadata": {},
   "outputs": [],
   "source": [
    "# CNN model architecture\n",
    "class CNN(nn.Module):\n",
    "    def __init__(self):\n",
    "        super().__init__()\n",
    "        self.layers = nn.Sequential(\n",
    "            nn.Conv2d(in_channels=3, out_channels=8, kernel_size=3, padding=1),\n",
    "            nn.ReLU(),\n",
    "            nn.MaxPool2d(kernel_size=(2,2), stride=2),\n",
    "            nn.Conv2d(in_channels=8, out_channels=16, kernel_size=3, padding=1),\n",
    "            nn.ReLU(),\n",
    "            nn.MaxPool2d(kernel_size=(2,2), stride=2),\n",
    "            nn.Flatten(),\n",
    "            nn.LazyLinear(128),\n",
    "            nn.ReLU(),\n",
    "            nn.Linear(128, 10)\n",
    "        )\n",
    "\n",
    "    def forward(self, x):\n",
    "        return self.layers(x)"
   ]
  },
  {
   "cell_type": "code",
   "execution_count": 10,
   "metadata": {},
   "outputs": [],
   "source": [
    "# train model\n",
    "from tqdm.notebook import tqdm\n",
    "\n",
    "def train_network(model, train_loader, val_loader, criterion, optimizer, nepoch=1000):\n",
    "    train_losses = []\n",
    "    val_losses = []\n",
    "    try:\n",
    "        for epoch in tqdm(range(nepoch)):\n",
    "            print('EPOCH %d'%epoch)\n",
    "            total_loss = 0\n",
    "            count = 0\n",
    "            for inputs, labels in train_loader:\n",
    "                optimizer.zero_grad()\n",
    "                outputs = model(inputs)\n",
    "                loss = criterion(outputs, labels)\n",
    "                loss.backward()\n",
    "                optimizer.step()\n",
    "                total_loss += loss.item()\n",
    "                count += 1\n",
    "            print('{:>12s} {:>7.5f}'.format('Train loss:', total_loss/count))\n",
    "            train_losses.append(total_loss/count)\n",
    "            with torch.no_grad():\n",
    "                total_loss = 0\n",
    "                count = 0\n",
    "                for inputs, labels in val_loader:\n",
    "                    outputs = model(inputs)\n",
    "                    loss = criterion(outputs, labels)\n",
    "                    total_loss += loss.item()\n",
    "                    count += 1\n",
    "                print('{:>12s} {:>7.5f}'.format('Val loss:', total_loss/count))\n",
    "                val_losses.append(total_loss/count)\n",
    "            print()\n",
    "    except KeyboardInterrupt:\n",
    "        print('Exiting from training early')\n",
    "    return train_losses, val_losses\n",
    "\n",
    "def test_network(model, test_loader, mode):\n",
    "    correct = 0\n",
    "    total = 0\n",
    "    true, pred = [], []\n",
    "    with torch.no_grad():\n",
    "        for inputs, labels  in test_loader:\n",
    "            outputs = model(inputs)\n",
    "            predicted = torch.argmax(outputs, 1)\n",
    "            total += labels.size(0)\n",
    "            correct += (predicted == labels).sum().item()\n",
    "            true.append(labels)\n",
    "            pred.append(predicted)\n",
    "    acc = (100 * correct / total)\n",
    "    print('%s accuracy: %0.3f' % (mode, acc))\n",
    "    true = np.concatenate(true)\n",
    "    pred = np.concatenate(pred)\n",
    "    return acc, true, pred"
   ]
  },
  {
   "cell_type": "code",
   "execution_count": 11,
   "metadata": {},
   "outputs": [
    {
     "name": "stderr",
     "output_type": "stream",
     "text": [
      "c:\\Users\\jonathan\\anaconda3\\lib\\site-packages\\torch\\nn\\modules\\lazy.py:180: UserWarning: Lazy modules are a new feature under heavy development so changes to the API or functionality can happen at any moment.\n",
      "  warnings.warn('Lazy modules are a new feature under heavy development '\n"
     ]
    },
    {
     "data": {
      "application/vnd.jupyter.widget-view+json": {
       "model_id": "dc4892d54e2b42aeba55f3ea9e466a9f",
       "version_major": 2,
       "version_minor": 0
      },
      "text/plain": [
       "  0%|          | 0/1000 [00:00<?, ?it/s]"
      ]
     },
     "metadata": {},
     "output_type": "display_data"
    },
    {
     "name": "stdout",
     "output_type": "stream",
     "text": [
      "EPOCH 0\n",
      "Exiting from training early\n",
      "<torch.utils.data.dataloader.DataLoader object at 0x0000019E71783550> accuracy: 42.880\n"
     ]
    },
    {
     "data": {
      "text/plain": [
       "(42.88,\n",
       " array([3, 8, 8, ..., 5, 1, 7], dtype=int64),\n",
       " array([3, 1, 8, ..., 5, 7, 7], dtype=int64))"
      ]
     },
     "execution_count": 11,
     "metadata": {},
     "output_type": "execute_result"
    },
    {
     "data": {
      "image/png": "[encoded data removed]",
      "text/plain": [
       "<Figure size 640x480 with 1 Axes>"
      ]
     },
     "metadata": {},
     "output_type": "display_data"
    }
   ],
   "source": [
    "cnn = CNN()\n",
    "criterion = torch.nn.CrossEntropyLoss()\n",
    "optimizer = torch.optim.Adam(cnn.parameters(), lr=1e-3)\n",
    "\n",
    "train_losses, val_losses = train_network(cnn, train_loader, val_loader, criterion, optimizer)\n",
    "plt.semilogy(train_losses, label=\"Training loss\")\n",
    "plt.semilogy(val_losses, label=\"Validation loss\")\n",
    "plt.xlabel(\"Epoch\")\n",
    "plt.ylabel(\"Loss\")\n",
    "plt.legend(loc=\"upper right\")\n",
    "\n",
    "cnn.eval()\n",
    "\n",
    "test_network(cnn, test_loader, train_loader)"
   ]
  },
  {
   "cell_type": "code",
   "execution_count": 12,
   "metadata": {},
   "outputs": [
    {
     "name": "stdout",
     "output_type": "stream",
     "text": [
      "Files already downloaded and verified\n",
      "Files already downloaded and verified\n",
      "Dataset CIFAR10\n",
      "    Number of datapoints: 50000\n",
      "    Root location: cifar10\n",
      "    Split: Train\n",
      "    StandardTransform\n",
      "Transform: Compose(\n",
      "               RandomHorizontalFlip(p=0.5)\n",
      "               RandomVerticalFlip(p=0.5)\n",
      "               ColorJitter(brightness=None, contrast=None, saturation=[0.95, 1.05], hue=[-0.05, 0.05])\n",
      "               RandomRotation(degrees=[-180.0, 180.0], interpolation=nearest, expand=False, fill=0)\n",
      "               ToTensor()\n",
      "           )\n",
      "Dataset CIFAR10\n",
      "    Number of datapoints: 10000\n",
      "    Root location: cifar10\n",
      "    Split: Test\n",
      "    StandardTransform\n",
      "Transform: Compose(\n",
      "               RandomHorizontalFlip(p=0.5)\n",
      "               RandomVerticalFlip(p=0.5)\n",
      "               ColorJitter(brightness=None, contrast=None, saturation=[0.95, 1.05], hue=[-0.05, 0.05])\n",
      "               RandomRotation(degrees=[-180.0, 180.0], interpolation=nearest, expand=False, fill=0)\n",
      "               ToTensor()\n",
      "           )\n"
     ]
    }
   ],
   "source": [
    "# data augmentation\n",
    "import torchvision\n",
    "from torchvision import datasets, transforms\n",
    "\n",
    "save_dir = 'cifar10'\n",
    "\n",
    "transform = transforms.Compose([\n",
    "                      transforms.RandomHorizontalFlip(),\n",
    "                      transforms.RandomVerticalFlip(),\n",
    "                      transforms.ColorJitter(hue=.05, saturation=.05),\n",
    "                      transforms.RandomRotation([-180,180]),\n",
    "                      transforms.ToTensor()\n",
    "                  ])\n",
    "train_set = datasets.CIFAR10(save_dir, download=True, train=True, transform=transform)\n",
    "test_set = datasets.CIFAR10(save_dir, download=True, train=False, transform=transform)\n",
    "\n",
    "print(train_set)\n",
    "print(test_set)"
   ]
  },
  {
   "cell_type": "code",
   "execution_count": 13,
   "metadata": {},
   "outputs": [],
   "source": [
    "# as before\n",
    "from torch.utils.data.sampler import SubsetRandomSampler\n",
    "ntotal = 50000\n",
    "ntrain = int(0.9*ntotal)\n",
    "nval = ntotal - ntrain\n",
    "\n",
    "val_ix = np.random.choice(range(ntotal), size=nval, replace=False)\n",
    "train_ix = list(set(range(ntotal)) - set(val_ix))\n",
    "\n",
    "train_sampler = SubsetRandomSampler(train_ix)\n",
    "val_sampler = SubsetRandomSampler(val_ix)\n",
    "\n",
    "batch_size = 64\n",
    "train_loader = torch.utils.data.DataLoader(train_set, batch_size, sampler=train_sampler)\n",
    "val_loader = torch.utils.data.DataLoader(train_set, batch_size, sampler=val_sampler)\n",
    "test_loader = torch.utils.data.DataLoader(test_set, batch_size)"
   ]
  },
  {
   "cell_type": "code",
   "execution_count": 14,
   "metadata": {},
   "outputs": [],
   "source": [
    "# regularized model\n",
    "class CNNRegularized(nn.Module):\n",
    "    def __init__(self):\n",
    "        super().__init__() \n",
    "        self.layers = nn.Sequential(\n",
    "            nn.Conv2d(in_channels=3,out_channels=32,kernel_size=3,padding=1),\n",
    "            nn.ReLU(),\n",
    "            nn.BatchNorm2d(32),\n",
    "            nn.MaxPool2d(kernel_size=(2,2),stride=2),\n",
    "            nn.Dropout2d(0.2),\n",
    "            nn.Conv2d(in_channels=32, out_channels=64, kernel_size=3,padding=1),\n",
    "            nn.ReLU(),\n",
    "            nn.BatchNorm2d(64),\n",
    "            nn.MaxPool2d(kernel_size=(2,2),stride=2),\n",
    "            nn.Dropout2d(0.3),\n",
    "            nn.Conv2d(in_channels=64, out_channels=128, kernel_size=3,padding=1),\n",
    "            nn.ReLU(),\n",
    "            nn.BatchNorm2d(128),\n",
    "            nn.MaxPool2d(kernel_size=(2,2),stride=2),\n",
    "            nn.Dropout2d(0.4),\n",
    "            nn.Flatten(),\n",
    "            nn.LazyLinear(128),\n",
    "            nn.BatchNorm1d(128),\n",
    "            nn.Dropout(0.5),\n",
    "            nn.ReLU(),\n",
    "            nn.Linear(128, 10)\n",
    "        )\n",
    "    \n",
    "    def forward(self, x):\n",
    "        return self.layers(x)"
   ]
  },
  {
   "cell_type": "code",
   "execution_count": 15,
   "metadata": {},
   "outputs": [
    {
     "data": {
      "application/vnd.jupyter.widget-view+json": {
       "model_id": "6e81741becf7454e98037db1a86af5d9",
       "version_major": 2,
       "version_minor": 0
      },
      "text/plain": [
       "  0%|          | 0/1000 [00:00<?, ?it/s]"
      ]
     },
     "metadata": {},
     "output_type": "display_data"
    },
    {
     "name": "stdout",
     "output_type": "stream",
     "text": [
      "EPOCH 0\n",
      "Exiting from training early\n",
      "<torch.utils.data.dataloader.DataLoader object at 0x0000019E72B3EFA0> accuracy: 13.080\n"
     ]
    },
    {
     "data": {
      "text/plain": [
       "(13.08,\n",
       " array([3, 8, 8, ..., 5, 1, 7], dtype=int64),\n",
       " array([4, 8, 4, ..., 4, 4, 4], dtype=int64))"
      ]
     },
     "execution_count": 15,
     "metadata": {},
     "output_type": "execute_result"
    },
    {
     "data": {
      "image/png": "[encoded data removed]",
      "text/plain": [
       "<Figure size 640x480 with 1 Axes>"
      ]
     },
     "metadata": {},
     "output_type": "display_data"
    }
   ],
   "source": [
    "cnn_regularized = CNNRegularized()\n",
    "criterion = torch.nn.CrossEntropyLoss()\n",
    "optimizer = torch.optim.Adam(cnn_regularized.parameters(), lr=0.001)\n",
    "\n",
    "reg_train_losses, reg_val_losses = train_network(cnn_regularized, train_loader, val_loader, criterion, optimizer)\n",
    "plt.semilogy(reg_train_losses, label=\"Training loss\")\n",
    "plt.semilogy(reg_val_losses, label=\"Validation loss\")\n",
    "plt.xlabel(\"Epoch\")\n",
    "plt.ylabel(\"Loss\")\n",
    "plt.legend(loc=\"upper right\")\n",
    "\n",
    "cnn_regularized.eval()\n",
    "\n",
    "test_network(cnn_regularized, test_loader, train_loader)"
   ]
  },
  {
   "cell_type": "code",
   "execution_count": 16,
   "metadata": {},
   "outputs": [],
   "source": [
    "# CNN transformer hybrid architecture\n",
    "class CNNTransformer(nn.Module):\n",
    "    def __init__(self):\n",
    "        super(CNNTransformer, self).__init__()\n",
    "        \n",
    "        # CNN layers\n",
    "        self.cnn_layers = nn.Sequential(\n",
    "            nn.Conv2d(in_channels=3,out_channels=32,kernel_size=3,padding=1),\n",
    "            nn.ReLU(),\n",
    "            nn.BatchNorm2d(32),\n",
    "            nn.MaxPool2d(kernel_size=(2,2),stride=2),\n",
    "            nn.Dropout2d(0.2),\n",
    "            nn.Conv2d(in_channels=32, out_channels=64, kernel_size=3,padding=1),\n",
    "            nn.ReLU(),\n",
    "            nn.BatchNorm2d(64),\n",
    "            nn.MaxPool2d(kernel_size=(2,2),stride=2),\n",
    "            nn.Dropout2d(0.3),\n",
    "            nn.Conv2d(in_channels=64, out_channels=128, kernel_size=3,padding=1),\n",
    "            nn.ReLU(),\n",
    "            nn.BatchNorm2d(128),\n",
    "            nn.MaxPool2d(kernel_size=(2,2),stride=2),\n",
    "            nn.Dropout2d(0.4),\n",
    "            nn.Flatten(),\n",
    "            nn.LazyLinear(128),\n",
    "        )\n",
    "        \n",
    "        # transformer layers\n",
    "        self.embedding = nn.LazyLinear(512)\n",
    "        self.transformer_encoder_layer = TransformerEncoderLayer(d_model=512, nhead=16)\n",
    "        self.transformer_encoder = TransformerEncoder(self.transformer_encoder_layer, num_layers=3)\n",
    "        self.dropout = nn.Dropout(p=0.2)\n",
    "        \n",
    "        self.fc = nn.LazyLinear(10)\n",
    "    \n",
    "    def forward(self, x):\n",
    "        # CNN forward pass\n",
    "        cnn_out = self.cnn_layers(x)\n",
    "        cnn_out = cnn_out.view(cnn_out.size(0), -1)\n",
    "        \n",
    "        # transformer forward pass\n",
    "        transformer_out = self.embedding(cnn_out)\n",
    "        transformer_out = transformer_out.unsqueeze(0)\n",
    "        transformer_out = self.transformer_encoder(transformer_out)\n",
    "        transformer_out = transformer_out.squeeze()\n",
    "        transformer_out = self.dropout(transformer_out)\n",
    "        \n",
    "        out = self.fc(transformer_out)\n",
    "        return out"
   ]
  },
  {
   "cell_type": "code",
   "execution_count": 17,
   "metadata": {},
   "outputs": [
    {
     "data": {
      "application/vnd.jupyter.widget-view+json": {
       "model_id": "e86eb56ed3554e8cbfe308348ff0ce8d",
       "version_major": 2,
       "version_minor": 0
      },
      "text/plain": [
       "  0%|          | 0/1000 [00:00<?, ?it/s]"
      ]
     },
     "metadata": {},
     "output_type": "display_data"
    },
    {
     "name": "stdout",
     "output_type": "stream",
     "text": [
      "EPOCH 0\n",
      "Exiting from training early\n",
      "<torch.utils.data.dataloader.DataLoader object at 0x0000019E72B3EFA0> accuracy: 15.540\n"
     ]
    },
    {
     "data": {
      "text/plain": [
       "(15.54,\n",
       " array([3, 8, 8, ..., 5, 1, 7], dtype=int64),\n",
       " array([2, 0, 8, ..., 2, 2, 2], dtype=int64))"
      ]
     },
     "execution_count": 17,
     "metadata": {},
     "output_type": "execute_result"
    },
    {
     "data": {
      "image/png": "[encoded data removed]",
      "text/plain": [
       "<Figure size 640x480 with 1 Axes>"
      ]
     },
     "metadata": {},
     "output_type": "display_data"
    }
   ],
   "source": [
    "cnn_transformer = CNNTransformer()\n",
    "criterion = torch.nn.CrossEntropyLoss()\n",
    "optimizer = torch.optim.Adam(cnn_transformer.parameters(), lr=0.0005)\n",
    "\n",
    "trans_train_losses, trans_val_losses = train_network(cnn_transformer, train_loader, val_loader, criterion, optimizer)\n",
    "plt.semilogy(trans_train_losses, label=\"Training loss\")\n",
    "plt.semilogy(trans_val_losses, label=\"Validation loss\")\n",
    "plt.xlabel(\"Epoch\")\n",
    "plt.ylabel(\"Loss\")\n",
    "plt.legend(loc=\"upper right\")\n",
    "\n",
    "cnn_transformer.eval()\n",
    "\n",
    "test_network(cnn_transformer, test_loader, train_loader)"
   ]
  }
 ],
 "metadata": {
  "kernelspec": {
   "display_name": "base",
   "language": "python",
   "name": "python3"
  },
  "language_info": {
   "codemirror_mode": {
    "name": "ipython",
    "version": 3
   },
   "file_extension": ".py",
   "mimetype": "text/x-python",
   "name": "python",
   "nbconvert_exporter": "python",
   "pygments_lexer": "ipython3",
   "version": "3.9.13"
  }
 },
 "nbformat": 4,
 "nbformat_minor": 2
}
